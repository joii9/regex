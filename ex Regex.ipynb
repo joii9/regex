{
 "cells": [
  {
   "cell_type": "markdown",
   "id": "fdafccee",
   "metadata": {},
   "source": [
    "# Regex"
   ]
  },
  {
   "cell_type": "code",
   "execution_count": 1,
   "id": "1ff4b7c5",
   "metadata": {},
   "outputs": [],
   "source": [
    "import re"
   ]
  },
  {
   "cell_type": "markdown",
   "id": "259caeab",
   "metadata": {},
   "source": [
    "## regex functions"
   ]
  },
  {
   "cell_type": "markdown",
   "id": "b985fa15",
   "metadata": {},
   "source": [
    "### findall"
   ]
  },
  {
   "cell_type": "code",
   "execution_count": 17,
   "id": "f5a6737e",
   "metadata": {},
   "outputs": [
    {
     "name": "stdout",
     "output_type": "stream",
     "text": [
      "['J', 'J']\n"
     ]
    }
   ],
   "source": [
    "import re\n",
    "\n",
    "txt=\"Joel Carbajal Muñoz Joel\"\n",
    "\n",
    "print(re.findall(\"J\", txt))"
   ]
  },
  {
   "cell_type": "markdown",
   "id": "9337e947",
   "metadata": {},
   "source": [
    "### search"
   ]
  },
  {
   "cell_type": "code",
   "execution_count": 16,
   "id": "38280d52",
   "metadata": {},
   "outputs": [
    {
     "name": "stdout",
     "output_type": "stream",
     "text": [
      "<re.Match object; span=(0, 1), match='J'>\n"
     ]
    }
   ],
   "source": [
    "import re\n",
    "\n",
    "txt=\"Joel Carbajal Muñoz\"\n",
    "\n",
    "print(re.search(\"J\", txt))"
   ]
  },
  {
   "cell_type": "markdown",
   "id": "750b6076",
   "metadata": {},
   "source": [
    "### split"
   ]
  },
  {
   "cell_type": "code",
   "execution_count": 18,
   "id": "5edbf993",
   "metadata": {},
   "outputs": [
    {
     "name": "stdout",
     "output_type": "stream",
     "text": [
      "['', 'oel Carbajal Muñoz']\n"
     ]
    }
   ],
   "source": [
    "import re\n",
    "\n",
    "txt=\"Joel Carbajal Muñoz\"\n",
    "\n",
    "print(re.split(\"J\", txt))"
   ]
  },
  {
   "cell_type": "markdown",
   "id": "4255aef3",
   "metadata": {},
   "source": [
    "### sub (substitution)"
   ]
  },
  {
   "cell_type": "code",
   "execution_count": 21,
   "id": "87fa2da1",
   "metadata": {},
   "outputs": [
    {
     "name": "stdout",
     "output_type": "stream",
     "text": [
      "Yoel Carbajal Muñoz\n"
     ]
    }
   ],
   "source": [
    "import re\n",
    "\n",
    "txt=\"Joel Carbajal Muñoz\"\n",
    "\n",
    "print(re.sub(\"J\", \"Y\", txt))"
   ]
  },
  {
   "cell_type": "markdown",
   "id": "c5513659",
   "metadata": {},
   "source": [
    "### Metacharacters"
   ]
  },
  {
   "cell_type": "markdown",
   "id": "ffd7dd5e",
   "metadata": {},
   "source": [
    "- [] a set of characters\n",
    "- \\ signals a special sequence (can also be used to scape special characters)\n",
    "- . any character (except new line character)\n",
    "- ^ starts with\n",
    "- $ ends with\n",
    "- \\* zero o more ocurrencies <!-- La diagonal invertida es para que ignore el formato de markdown -->\n",
    "- \\+ one o more ocurrencies\n",
    "- ? zero o one ocurrencies\n",
    "- { } exactly the specified number of occurrencies\n",
    "- | either or\n",
    "- ( ) capture and group"
   ]
  },
  {
   "cell_type": "code",
   "execution_count": 25,
   "id": "93e79798",
   "metadata": {},
   "outputs": [
    {
     "name": "stdout",
     "output_type": "stream",
     "text": [
      "['h', 'e', 'a', 'i', 'i', 'a', 'i']\n"
     ]
    }
   ],
   "source": [
    "import re\n",
    "\n",
    "txt = \"The rain in Spain\"\n",
    "\n",
    "#Find all lower case characters alphabetically between \"a\" and \"m\":\n",
    "\n",
    "x = re.findall(\"[a-m]\", txt)\n",
    "print(x)"
   ]
  },
  {
   "cell_type": "code",
   "execution_count": 23,
   "id": "c55ea9f8",
   "metadata": {},
   "outputs": [
    {
     "name": "stdout",
     "output_type": "stream",
     "text": [
      "['5', '9']\n"
     ]
    }
   ],
   "source": [
    "import re\n",
    "\n",
    "txt = \"That will be 59 dollars\"\n",
    "\n",
    "#Find all digit characters:\n",
    "\n",
    "x = re.findall(\"\\d\", txt)\n",
    "print(x)\n"
   ]
  },
  {
   "cell_type": "code",
   "execution_count": 24,
   "id": "775874eb",
   "metadata": {},
   "outputs": [
    {
     "name": "stdout",
     "output_type": "stream",
     "text": [
      "['hello']\n"
     ]
    }
   ],
   "source": [
    "import re\n",
    "\n",
    "txt = \"hello planet\"\n",
    "\n",
    "#Search for a sequence that starts with \"he\", followed by two (any) characters, and an \"o\":\n",
    "\n",
    "x = re.findall(\"he..o\", txt)\n",
    "print(x)"
   ]
  },
  {
   "cell_type": "code",
   "execution_count": 29,
   "id": "84a24703",
   "metadata": {},
   "outputs": [
    {
     "name": "stdout",
     "output_type": "stream",
     "text": [
      "Yes, the string starts with 'Hello'\n"
     ]
    }
   ],
   "source": [
    "import re\n",
    "\n",
    "txt = \"Hello world\"\n",
    "\n",
    "#Check if the string starts with 'hello':\n",
    "\n",
    "x = re.findall(\"^Hello\", txt)\n",
    "if x:\n",
    "  print(\"Yes, the string starts with 'Hello'\")\n",
    "else:\n",
    "  print(\"No match\")"
   ]
  },
  {
   "cell_type": "code",
   "execution_count": 32,
   "id": "c59f17d7",
   "metadata": {},
   "outputs": [
    {
     "name": "stdout",
     "output_type": "stream",
     "text": [
      "Yes, the string ends with 'world'\n"
     ]
    }
   ],
   "source": [
    "import re\n",
    "\n",
    "txt = \"hello world\"\n",
    "\n",
    "#Check if the string ends with 'planet':\n",
    "\n",
    "x = re.findall(\"world$\", txt)\n",
    "if x:\n",
    "  print(\"Yes, the string ends with 'world'\")\n",
    "else:\n",
    "  print(\"No match\")"
   ]
  },
  {
   "cell_type": "code",
   "execution_count": 33,
   "id": "12c6504a",
   "metadata": {},
   "outputs": [
    {
     "name": "stdout",
     "output_type": "stream",
     "text": [
      "['hello']\n"
     ]
    }
   ],
   "source": [
    "import re\n",
    "\n",
    "txt = \"hello planet\"\n",
    "\n",
    "#Search for a sequence that starts with \"he\", followed by 0 or more  (any) characters, and an \"o\":\n",
    "\n",
    "x = re.findall(\"he.*o\", txt)\n",
    "\n",
    "print(x)"
   ]
  },
  {
   "cell_type": "code",
   "execution_count": 34,
   "id": "9f0552bc",
   "metadata": {},
   "outputs": [
    {
     "name": "stdout",
     "output_type": "stream",
     "text": [
      "['hello']\n"
     ]
    }
   ],
   "source": [
    "import re\n",
    "\n",
    "txt = \"hello planet\"\n",
    "\n",
    "#Search for a sequence that starts with \"he\", followed by 1 or more  (any) characters, and an \"o\":\n",
    "\n",
    "x = re.findall(\"he.+o\", txt)\n",
    "\n",
    "print(x)"
   ]
  },
  {
   "cell_type": "code",
   "execution_count": 35,
   "id": "ae0b09c6",
   "metadata": {},
   "outputs": [
    {
     "name": "stdout",
     "output_type": "stream",
     "text": [
      "[]\n"
     ]
    }
   ],
   "source": [
    "import re\n",
    "\n",
    "txt = \"hello planet\"\n",
    "\n",
    "#Search for a sequence that starts with \"he\", followed by 0 or 1  (any) character, and an \"o\":\n",
    "\n",
    "x = re.findall(\"he.?o\", txt)\n",
    "\n",
    "print(x)\n",
    "\n",
    "#This time we got no match, because there were not zero, not one, but two characters between \"he\" and the \"o\"\n"
   ]
  },
  {
   "cell_type": "code",
   "execution_count": 36,
   "id": "808ddffe",
   "metadata": {},
   "outputs": [
    {
     "name": "stdout",
     "output_type": "stream",
     "text": [
      "['hello']\n"
     ]
    }
   ],
   "source": [
    "import re\n",
    "\n",
    "txt = \"hello planet\"\n",
    "\n",
    "#Search for a sequence that starts with \"he\", followed excactly 2 (any) characters, and an \"o\":\n",
    "\n",
    "x = re.findall(\"he.{2}o\", txt)\n",
    "\n",
    "print(x)\n"
   ]
  },
  {
   "cell_type": "code",
   "execution_count": 37,
   "id": "0adeee55",
   "metadata": {},
   "outputs": [
    {
     "name": "stdout",
     "output_type": "stream",
     "text": [
      "['falls']\n",
      "Yes, there is at least one match!\n"
     ]
    }
   ],
   "source": [
    "import re\n",
    "\n",
    "txt = \"The rain in Spain falls mainly in the plain!\"\n",
    "\n",
    "#Check if the string contains either \"falls\" or \"stays\":\n",
    "\n",
    "x = re.findall(\"falls|stays\", txt)\n",
    "\n",
    "print(x)\n",
    "\n",
    "if x:\n",
    "  print(\"Yes, there is at least one match!\")\n",
    "else:\n",
    "  print(\"No match\")\n"
   ]
  },
  {
   "cell_type": "markdown",
   "id": "54ede2be",
   "metadata": {},
   "source": [
    "### Special secuences"
   ]
  },
  {
   "cell_type": "markdown",
   "id": "74f7a537",
   "metadata": {},
   "source": [
    "- \\A returns a match if the specified characters are at begining of the string ex. \\AThe\n",
    "- \\b returns a match where the specified characters are at the begining or at the end of a word ex. \\bain or ain\\b\n",
    "- \\B returns a match where the specified characters are present, but NOT at the begining or at the end of a word ex. \\Bain or ain\\B\n",
    "- \\d returns a match where the string contains digits\n",
    "- \\D returns a match where the string NOT contains digits\n",
    "- \\s returns a match where the string contains a white space\n",
    "- \\S returns a match where the string does NOT contains a white space character\n",
    "- \\w returns a match where the string contains any word character (A to Z digits for 0 to 9 and the underscore _ character)\n",
    "- \\W returns a match where the string does NOT contains any word\n",
    "- \\Z returns a match if the specified characters are at the end of the sring ex. Spain\\Z"
   ]
  },
  {
   "cell_type": "markdown",
   "id": "33c6f08c",
   "metadata": {},
   "source": [
    "### Sets\n",
    "\n",
    "- [word] returns a match where one o more characters is present\n",
    "- [a-n] returns a match for any lower character between a and n\n",
    "- [^arn] returns a match for any character except a,r and n\n",
    "- [0123] returns a match where the specified digits are present\n",
    "- [0-9] returns a match where between 0 and 9\n",
    "- [0-5][0-9] returns a match 00 and 59\n",
    "- [a-zA-Z] returns a match for any character alphabetically between a and z, lower case OR upper case\n",
    "- [+] return a match for any + character in the string"
   ]
  },
  {
   "cell_type": "code",
   "execution_count": 112,
   "id": "a0237e85",
   "metadata": {},
   "outputs": [
    {
     "name": "stdout",
     "output_type": "stream",
     "text": [
      "['C:/Users/Joel/Desktop/GUI_bita/IT_database.db', '']\n"
     ]
    }
   ],
   "source": [
    "import re\n",
    "\n",
    "text=\"C:/Users/Joel/Desktop/GUI_bita/IT_database.db\"\n",
    "\n",
    "path=re.findall(\"\\D*\", text)\n",
    "\n",
    "print(path)"
   ]
  },
  {
   "cell_type": "code",
   "execution_count": 254,
   "id": "19c33f57",
   "metadata": {},
   "outputs": [
    {
     "name": "stdout",
     "output_type": "stream",
     "text": [
      "Z:/GUI_bita/IT_database.db\n",
      "['Z:/GUI_bita/extras/table.html']\n",
      "['Z:/GUI_bita/indicadores.sql']\n"
     ]
    }
   ],
   "source": [
    "import re\n",
    "\n",
    "file = open(\"Z:\\\\GUI_bita\\paths.txt\", \"r\")\n",
    "\n",
    "str_file=file.read()\n",
    "#print(str_file)\n",
    "#print(dir(str_file))\n",
    "#print(type(str_file))\n",
    "\n",
    "#print(str_file)\n",
    "path= re.findall(\"[A-Z].*db\", str_file)\n",
    "print(path[0])\n",
    "\n",
    "search= re.findall(\"(C.*html|Z.*html)\", str_file)\n",
    "print(search)\n",
    "\n",
    "ind= re.findall(\"(C.*sql|Z.*sql)\", str_file)\n",
    "print(ind)\n"
   ]
  },
  {
   "cell_type": "code",
   "execution_count": null,
   "id": "9c48f516",
   "metadata": {},
   "outputs": [],
   "source": [
    "\"[A-Z]:/[[^/]+/]*[^/]+\\.db\""
   ]
  },
  {
   "cell_type": "code",
   "execution_count": null,
   "id": "e5e0ff85",
   "metadata": {},
   "outputs": [],
   "source": []
  },
  {
   "cell_type": "code",
   "execution_count": null,
   "id": "da1bd0bd",
   "metadata": {},
   "outputs": [],
   "source": []
  },
  {
   "cell_type": "code",
   "execution_count": null,
   "id": "ea18b59d",
   "metadata": {},
   "outputs": [],
   "source": []
  },
  {
   "cell_type": "code",
   "execution_count": 7,
   "id": "469afcc1",
   "metadata": {},
   "outputs": [
    {
     "name": "stdout",
     "output_type": "stream",
     "text": [
      "<re.Match object; span=(0, 1), match='c'>\n"
     ]
    }
   ],
   "source": [
    "print(re.match(\"c\", \"aca\"))"
   ]
  },
  {
   "cell_type": "code",
   "execution_count": 8,
   "id": "eb8690df",
   "metadata": {},
   "outputs": [
    {
     "name": "stdout",
     "output_type": "stream",
     "text": [
      "<re.Match object; span=(0, 1), match='c'>\n"
     ]
    }
   ],
   "source": [
    "print(re.search(\"c\", \"caca\"))"
   ]
  },
  {
   "cell_type": "code",
   "execution_count": 7,
   "id": "5873bc3c",
   "metadata": {},
   "outputs": [
    {
     "name": "stdout",
     "output_type": "stream",
     "text": [
      "<re.Match object; span=(0, 17), match='The rain in Spain'>\n"
     ]
    }
   ],
   "source": [
    "import re\n",
    "\n",
    "txt = \"The rain in Spain\"\n",
    "x = re.search(\"^The.*Spain$\", txt)\n",
    "\n",
    "print(x)"
   ]
  },
  {
   "cell_type": "code",
   "execution_count": 67,
   "id": "a8a54d4a",
   "metadata": {},
   "outputs": [],
   "source": [
    "text=\"path=\"+'\"'+\"Z:/GUI_bita/IT_database.db\"+'\"'"
   ]
  },
  {
   "cell_type": "code",
   "execution_count": 69,
   "id": "7fb6fbfc",
   "metadata": {},
   "outputs": [
    {
     "name": "stdout",
     "output_type": "stream",
     "text": [
      "path=\"Z:/GUI_bita/IT_database.db\"\n"
     ]
    }
   ],
   "source": [
    "print(text)"
   ]
  },
  {
   "cell_type": "code",
   "execution_count": null,
   "id": "b554b7a6",
   "metadata": {},
   "outputs": [],
   "source": []
  }
 ],
 "metadata": {
  "kernelspec": {
   "display_name": "Python 3 (ipykernel)",
   "language": "python",
   "name": "python3"
  },
  "language_info": {
   "codemirror_mode": {
    "name": "ipython",
    "version": 3
   },
   "file_extension": ".py",
   "mimetype": "text/x-python",
   "name": "python",
   "nbconvert_exporter": "python",
   "pygments_lexer": "ipython3",
   "version": "3.9.12"
  }
 },
 "nbformat": 4,
 "nbformat_minor": 5
}
